{
 "cells": [
  {
   "cell_type": "markdown",
   "metadata": {},
   "source": [
    "### Import the Dependencies"
   ]
  },
  {
   "cell_type": "code",
   "execution_count": 32,
   "metadata": {},
   "outputs": [],
   "source": [
    "import pandas as pd\n",
    "import numpy as np\n",
    "import tensorflow as tf\n",
    "from tensorflow.keras.preprocessing.text import Tokenizer\n",
    "from tensorflow.keras.preprocessing.sequence import pad_sequences\n",
    "import joblib"
   ]
  },
  {
   "cell_type": "markdown",
   "metadata": {},
   "source": [
    "### Import the Dataset - Customer Feedback Dataset"
   ]
  },
  {
   "cell_type": "code",
   "execution_count": 2,
   "metadata": {},
   "outputs": [],
   "source": [
    "df = pd.read_csv(\"sentiment-analysis.csv\", header=None)"
   ]
  },
  {
   "cell_type": "code",
   "execution_count": 3,
   "metadata": {},
   "outputs": [
    {
     "data": {
      "text/html": [
       "<div>\n",
       "<style scoped>\n",
       "    .dataframe tbody tr th:only-of-type {\n",
       "        vertical-align: middle;\n",
       "    }\n",
       "\n",
       "    .dataframe tbody tr th {\n",
       "        vertical-align: top;\n",
       "    }\n",
       "\n",
       "    .dataframe thead th {\n",
       "        text-align: right;\n",
       "    }\n",
       "</style>\n",
       "<table border=\"1\" class=\"dataframe\">\n",
       "  <thead>\n",
       "    <tr style=\"text-align: right;\">\n",
       "      <th></th>\n",
       "      <th>0</th>\n",
       "    </tr>\n",
       "  </thead>\n",
       "  <tbody>\n",
       "    <tr>\n",
       "      <th>0</th>\n",
       "      <td>Text, Sentiment, Source, Date/Time, User ID, L...</td>\n",
       "    </tr>\n",
       "    <tr>\n",
       "      <th>1</th>\n",
       "      <td>\"I love this product!\", Positive, Twitter, 202...</td>\n",
       "    </tr>\n",
       "    <tr>\n",
       "      <th>2</th>\n",
       "      <td>\"The service was terrible.\", Negative, Yelp Re...</td>\n",
       "    </tr>\n",
       "    <tr>\n",
       "      <th>3</th>\n",
       "      <td>\"This movie is amazing!\", Positive, IMDb, 2023...</td>\n",
       "    </tr>\n",
       "    <tr>\n",
       "      <th>4</th>\n",
       "      <td>\"I'm so disappointed with their customer suppo...</td>\n",
       "    </tr>\n",
       "  </tbody>\n",
       "</table>\n",
       "</div>"
      ],
      "text/plain": [
       "                                                   0\n",
       "0  Text, Sentiment, Source, Date/Time, User ID, L...\n",
       "1  \"I love this product!\", Positive, Twitter, 202...\n",
       "2  \"The service was terrible.\", Negative, Yelp Re...\n",
       "3  \"This movie is amazing!\", Positive, IMDb, 2023...\n",
       "4  \"I'm so disappointed with their customer suppo..."
      ]
     },
     "execution_count": 3,
     "metadata": {},
     "output_type": "execute_result"
    }
   ],
   "source": [
    "df.head(5)"
   ]
  },
  {
   "cell_type": "code",
   "execution_count": 4,
   "metadata": {},
   "outputs": [
    {
     "name": "stdout",
     "output_type": "stream",
     "text": [
      "<class 'pandas.core.frame.DataFrame'>\n",
      "RangeIndex: 99 entries, 0 to 98\n",
      "Data columns (total 1 columns):\n",
      " #   Column  Non-Null Count  Dtype \n",
      "---  ------  --------------  ----- \n",
      " 0   0       97 non-null     object\n",
      "dtypes: object(1)\n",
      "memory usage: 920.0+ bytes\n"
     ]
    }
   ],
   "source": [
    "df.info()"
   ]
  },
  {
   "cell_type": "markdown",
   "metadata": {},
   "source": [
    "### Data Preprocessing"
   ]
  },
  {
   "cell_type": "code",
   "execution_count": 5,
   "metadata": {},
   "outputs": [],
   "source": [
    "# Remove missing values\n",
    "df = df.dropna()"
   ]
  },
  {
   "cell_type": "code",
   "execution_count": 6,
   "metadata": {},
   "outputs": [
    {
     "data": {
      "text/html": [
       "<div>\n",
       "<style scoped>\n",
       "    .dataframe tbody tr th:only-of-type {\n",
       "        vertical-align: middle;\n",
       "    }\n",
       "\n",
       "    .dataframe tbody tr th {\n",
       "        vertical-align: top;\n",
       "    }\n",
       "\n",
       "    .dataframe thead th {\n",
       "        text-align: right;\n",
       "    }\n",
       "</style>\n",
       "<table border=\"1\" class=\"dataframe\">\n",
       "  <thead>\n",
       "    <tr style=\"text-align: right;\">\n",
       "      <th></th>\n",
       "      <th>0</th>\n",
       "    </tr>\n",
       "  </thead>\n",
       "  <tbody>\n",
       "    <tr>\n",
       "      <th>0</th>\n",
       "      <td>Text, Sentiment, Source, Date/Time, User ID, L...</td>\n",
       "    </tr>\n",
       "    <tr>\n",
       "      <th>1</th>\n",
       "      <td>\"I love this product!\", Positive, Twitter, 202...</td>\n",
       "    </tr>\n",
       "    <tr>\n",
       "      <th>2</th>\n",
       "      <td>\"The service was terrible.\", Negative, Yelp Re...</td>\n",
       "    </tr>\n",
       "    <tr>\n",
       "      <th>3</th>\n",
       "      <td>\"This movie is amazing!\", Positive, IMDb, 2023...</td>\n",
       "    </tr>\n",
       "    <tr>\n",
       "      <th>4</th>\n",
       "      <td>\"I'm so disappointed with their customer suppo...</td>\n",
       "    </tr>\n",
       "  </tbody>\n",
       "</table>\n",
       "</div>"
      ],
      "text/plain": [
       "                                                   0\n",
       "0  Text, Sentiment, Source, Date/Time, User ID, L...\n",
       "1  \"I love this product!\", Positive, Twitter, 202...\n",
       "2  \"The service was terrible.\", Negative, Yelp Re...\n",
       "3  \"This movie is amazing!\", Positive, IMDb, 2023...\n",
       "4  \"I'm so disappointed with their customer suppo..."
      ]
     },
     "execution_count": 6,
     "metadata": {},
     "output_type": "execute_result"
    }
   ],
   "source": [
    "df=df[[0]]\n",
    "df.head(5)"
   ]
  },
  {
   "cell_type": "code",
   "execution_count": 7,
   "metadata": {},
   "outputs": [
    {
     "data": {
      "text/html": [
       "<div>\n",
       "<style scoped>\n",
       "    .dataframe tbody tr th:only-of-type {\n",
       "        vertical-align: middle;\n",
       "    }\n",
       "\n",
       "    .dataframe tbody tr th {\n",
       "        vertical-align: top;\n",
       "    }\n",
       "\n",
       "    .dataframe thead th {\n",
       "        text-align: right;\n",
       "    }\n",
       "</style>\n",
       "<table border=\"1\" class=\"dataframe\">\n",
       "  <thead>\n",
       "    <tr style=\"text-align: right;\">\n",
       "      <th></th>\n",
       "      <th>comments</th>\n",
       "    </tr>\n",
       "  </thead>\n",
       "  <tbody>\n",
       "    <tr>\n",
       "      <th>0</th>\n",
       "      <td>Text, Sentiment, Source, Date/Time, User ID, L...</td>\n",
       "    </tr>\n",
       "    <tr>\n",
       "      <th>1</th>\n",
       "      <td>\"I love this product!\", Positive, Twitter, 202...</td>\n",
       "    </tr>\n",
       "    <tr>\n",
       "      <th>2</th>\n",
       "      <td>\"The service was terrible.\", Negative, Yelp Re...</td>\n",
       "    </tr>\n",
       "    <tr>\n",
       "      <th>3</th>\n",
       "      <td>\"This movie is amazing!\", Positive, IMDb, 2023...</td>\n",
       "    </tr>\n",
       "    <tr>\n",
       "      <th>4</th>\n",
       "      <td>\"I'm so disappointed with their customer suppo...</td>\n",
       "    </tr>\n",
       "  </tbody>\n",
       "</table>\n",
       "</div>"
      ],
      "text/plain": [
       "                                            comments\n",
       "0  Text, Sentiment, Source, Date/Time, User ID, L...\n",
       "1  \"I love this product!\", Positive, Twitter, 202...\n",
       "2  \"The service was terrible.\", Negative, Yelp Re...\n",
       "3  \"This movie is amazing!\", Positive, IMDb, 2023...\n",
       "4  \"I'm so disappointed with their customer suppo..."
      ]
     },
     "execution_count": 7,
     "metadata": {},
     "output_type": "execute_result"
    }
   ],
   "source": [
    "# Rename the columns\n",
    "df.rename(columns={0:'comments'},inplace=True)\n",
    "df.head(5)"
   ]
  },
  {
   "cell_type": "code",
   "execution_count": 8,
   "metadata": {},
   "outputs": [
    {
     "data": {
      "text/html": [
       "<div>\n",
       "<style scoped>\n",
       "    .dataframe tbody tr th:only-of-type {\n",
       "        vertical-align: middle;\n",
       "    }\n",
       "\n",
       "    .dataframe tbody tr th {\n",
       "        vertical-align: top;\n",
       "    }\n",
       "\n",
       "    .dataframe thead th {\n",
       "        text-align: right;\n",
       "    }\n",
       "</style>\n",
       "<table border=\"1\" class=\"dataframe\">\n",
       "  <thead>\n",
       "    <tr style=\"text-align: right;\">\n",
       "      <th></th>\n",
       "      <th>comments</th>\n",
       "      <th>review</th>\n",
       "      <th>sentiment</th>\n",
       "      <th>source</th>\n",
       "      <th>date</th>\n",
       "      <th>user</th>\n",
       "      <th>location</th>\n",
       "      <th>confidence</th>\n",
       "    </tr>\n",
       "  </thead>\n",
       "  <tbody>\n",
       "    <tr>\n",
       "      <th>0</th>\n",
       "      <td>Text, Sentiment, Source, Date/Time, User ID, L...</td>\n",
       "      <td>Text</td>\n",
       "      <td>Sentiment</td>\n",
       "      <td>Source</td>\n",
       "      <td>Date/Time</td>\n",
       "      <td>User ID</td>\n",
       "      <td>Location</td>\n",
       "      <td>Confidence Score</td>\n",
       "    </tr>\n",
       "    <tr>\n",
       "      <th>1</th>\n",
       "      <td>\"I love this product!\", Positive, Twitter, 202...</td>\n",
       "      <td>\"I love this product!\"</td>\n",
       "      <td>Positive</td>\n",
       "      <td>Twitter</td>\n",
       "      <td>2023-06-15 09:23:14</td>\n",
       "      <td>@user123</td>\n",
       "      <td>New York</td>\n",
       "      <td>0.85</td>\n",
       "    </tr>\n",
       "    <tr>\n",
       "      <th>2</th>\n",
       "      <td>\"The service was terrible.\", Negative, Yelp Re...</td>\n",
       "      <td>\"The service was terrible.\"</td>\n",
       "      <td>Negative</td>\n",
       "      <td>Yelp Reviews</td>\n",
       "      <td>2023-06-15 11:45:32</td>\n",
       "      <td>user456</td>\n",
       "      <td>Los Angeles</td>\n",
       "      <td>0.65</td>\n",
       "    </tr>\n",
       "    <tr>\n",
       "      <th>3</th>\n",
       "      <td>\"This movie is amazing!\", Positive, IMDb, 2023...</td>\n",
       "      <td>\"This movie is amazing!\"</td>\n",
       "      <td>Positive</td>\n",
       "      <td>IMDb</td>\n",
       "      <td>2023-06-15 14:10:22</td>\n",
       "      <td>moviefan789</td>\n",
       "      <td>London</td>\n",
       "      <td>0.92</td>\n",
       "    </tr>\n",
       "    <tr>\n",
       "      <th>4</th>\n",
       "      <td>\"I'm so disappointed with their customer suppo...</td>\n",
       "      <td>\"I'm so disappointed with their customer suppo...</td>\n",
       "      <td>Negative</td>\n",
       "      <td>Online Forum</td>\n",
       "      <td>2023-06-15 17:35:11</td>\n",
       "      <td>forumuser1</td>\n",
       "      <td>Toronto</td>\n",
       "      <td>0.78</td>\n",
       "    </tr>\n",
       "  </tbody>\n",
       "</table>\n",
       "</div>"
      ],
      "text/plain": [
       "                                            comments  \\\n",
       "0  Text, Sentiment, Source, Date/Time, User ID, L...   \n",
       "1  \"I love this product!\", Positive, Twitter, 202...   \n",
       "2  \"The service was terrible.\", Negative, Yelp Re...   \n",
       "3  \"This movie is amazing!\", Positive, IMDb, 2023...   \n",
       "4  \"I'm so disappointed with their customer suppo...   \n",
       "\n",
       "                                              review   sentiment  \\\n",
       "0                                               Text   Sentiment   \n",
       "1                             \"I love this product!\"    Positive   \n",
       "2                        \"The service was terrible.\"    Negative   \n",
       "3                           \"This movie is amazing!\"    Positive   \n",
       "4  \"I'm so disappointed with their customer suppo...    Negative   \n",
       "\n",
       "          source                  date          user      location  \\\n",
       "0         Source             Date/Time       User ID      Location   \n",
       "1        Twitter   2023-06-15 09:23:14      @user123      New York   \n",
       "2   Yelp Reviews   2023-06-15 11:45:32       user456   Los Angeles   \n",
       "3           IMDb   2023-06-15 14:10:22   moviefan789        London   \n",
       "4   Online Forum   2023-06-15 17:35:11    forumuser1       Toronto   \n",
       "\n",
       "          confidence  \n",
       "0   Confidence Score  \n",
       "1               0.85  \n",
       "2               0.65  \n",
       "3               0.92  \n",
       "4               0.78  "
      ]
     },
     "execution_count": 8,
     "metadata": {},
     "output_type": "execute_result"
    }
   ],
   "source": [
    "# Split the comments into multiple columns\n",
    "df[['review', 'sentiment', 'source','date','user','location','confidence']] = df['comments'].str.split(',', expand=True)\n",
    "df.head(5)"
   ]
  },
  {
   "cell_type": "code",
   "execution_count": 9,
   "metadata": {},
   "outputs": [
    {
     "data": {
      "text/html": [
       "<div>\n",
       "<style scoped>\n",
       "    .dataframe tbody tr th:only-of-type {\n",
       "        vertical-align: middle;\n",
       "    }\n",
       "\n",
       "    .dataframe tbody tr th {\n",
       "        vertical-align: top;\n",
       "    }\n",
       "\n",
       "    .dataframe thead th {\n",
       "        text-align: right;\n",
       "    }\n",
       "</style>\n",
       "<table border=\"1\" class=\"dataframe\">\n",
       "  <thead>\n",
       "    <tr style=\"text-align: right;\">\n",
       "      <th></th>\n",
       "      <th>comments</th>\n",
       "      <th>review</th>\n",
       "      <th>sentiment</th>\n",
       "      <th>source</th>\n",
       "      <th>date</th>\n",
       "      <th>user</th>\n",
       "      <th>location</th>\n",
       "      <th>confidence</th>\n",
       "    </tr>\n",
       "  </thead>\n",
       "  <tbody>\n",
       "    <tr>\n",
       "      <th>1</th>\n",
       "      <td>\"I love this product!\", Positive, Twitter, 202...</td>\n",
       "      <td>\"I love this product!\"</td>\n",
       "      <td>Positive</td>\n",
       "      <td>Twitter</td>\n",
       "      <td>2023-06-15 09:23:14</td>\n",
       "      <td>@user123</td>\n",
       "      <td>New York</td>\n",
       "      <td>0.85</td>\n",
       "    </tr>\n",
       "    <tr>\n",
       "      <th>2</th>\n",
       "      <td>\"The service was terrible.\", Negative, Yelp Re...</td>\n",
       "      <td>\"The service was terrible.\"</td>\n",
       "      <td>Negative</td>\n",
       "      <td>Yelp Reviews</td>\n",
       "      <td>2023-06-15 11:45:32</td>\n",
       "      <td>user456</td>\n",
       "      <td>Los Angeles</td>\n",
       "      <td>0.65</td>\n",
       "    </tr>\n",
       "    <tr>\n",
       "      <th>3</th>\n",
       "      <td>\"This movie is amazing!\", Positive, IMDb, 2023...</td>\n",
       "      <td>\"This movie is amazing!\"</td>\n",
       "      <td>Positive</td>\n",
       "      <td>IMDb</td>\n",
       "      <td>2023-06-15 14:10:22</td>\n",
       "      <td>moviefan789</td>\n",
       "      <td>London</td>\n",
       "      <td>0.92</td>\n",
       "    </tr>\n",
       "    <tr>\n",
       "      <th>4</th>\n",
       "      <td>\"I'm so disappointed with their customer suppo...</td>\n",
       "      <td>\"I'm so disappointed with their customer suppo...</td>\n",
       "      <td>Negative</td>\n",
       "      <td>Online Forum</td>\n",
       "      <td>2023-06-15 17:35:11</td>\n",
       "      <td>forumuser1</td>\n",
       "      <td>Toronto</td>\n",
       "      <td>0.78</td>\n",
       "    </tr>\n",
       "    <tr>\n",
       "      <th>5</th>\n",
       "      <td>\"Just had the best meal of my life!\", Positive...</td>\n",
       "      <td>\"Just had the best meal of my life!\"</td>\n",
       "      <td>Positive</td>\n",
       "      <td>TripAdvisor</td>\n",
       "      <td>2023-06-16 08:50:59</td>\n",
       "      <td>foodie22</td>\n",
       "      <td>Paris</td>\n",
       "      <td>0.88</td>\n",
       "    </tr>\n",
       "  </tbody>\n",
       "</table>\n",
       "</div>"
      ],
      "text/plain": [
       "                                            comments  \\\n",
       "1  \"I love this product!\", Positive, Twitter, 202...   \n",
       "2  \"The service was terrible.\", Negative, Yelp Re...   \n",
       "3  \"This movie is amazing!\", Positive, IMDb, 2023...   \n",
       "4  \"I'm so disappointed with their customer suppo...   \n",
       "5  \"Just had the best meal of my life!\", Positive...   \n",
       "\n",
       "                                              review  sentiment  \\\n",
       "1                             \"I love this product!\"   Positive   \n",
       "2                        \"The service was terrible.\"   Negative   \n",
       "3                           \"This movie is amazing!\"   Positive   \n",
       "4  \"I'm so disappointed with their customer suppo...   Negative   \n",
       "5               \"Just had the best meal of my life!\"   Positive   \n",
       "\n",
       "          source                  date          user      location confidence  \n",
       "1        Twitter   2023-06-15 09:23:14      @user123      New York       0.85  \n",
       "2   Yelp Reviews   2023-06-15 11:45:32       user456   Los Angeles       0.65  \n",
       "3           IMDb   2023-06-15 14:10:22   moviefan789        London       0.92  \n",
       "4   Online Forum   2023-06-15 17:35:11    forumuser1       Toronto       0.78  \n",
       "5    TripAdvisor   2023-06-16 08:50:59      foodie22         Paris       0.88  "
      ]
     },
     "execution_count": 9,
     "metadata": {},
     "output_type": "execute_result"
    }
   ],
   "source": [
    "df = df.drop(0)\n",
    "df.head(5)"
   ]
  },
  {
   "cell_type": "code",
   "execution_count": 10,
   "metadata": {},
   "outputs": [
    {
     "data": {
      "text/html": [
       "<div>\n",
       "<style scoped>\n",
       "    .dataframe tbody tr th:only-of-type {\n",
       "        vertical-align: middle;\n",
       "    }\n",
       "\n",
       "    .dataframe tbody tr th {\n",
       "        vertical-align: top;\n",
       "    }\n",
       "\n",
       "    .dataframe thead th {\n",
       "        text-align: right;\n",
       "    }\n",
       "</style>\n",
       "<table border=\"1\" class=\"dataframe\">\n",
       "  <thead>\n",
       "    <tr style=\"text-align: right;\">\n",
       "      <th></th>\n",
       "      <th>review</th>\n",
       "      <th>sentiment</th>\n",
       "      <th>source</th>\n",
       "      <th>date</th>\n",
       "      <th>user</th>\n",
       "      <th>location</th>\n",
       "      <th>confidence</th>\n",
       "    </tr>\n",
       "  </thead>\n",
       "  <tbody>\n",
       "    <tr>\n",
       "      <th>1</th>\n",
       "      <td>\"I love this product!\"</td>\n",
       "      <td>Positive</td>\n",
       "      <td>Twitter</td>\n",
       "      <td>2023-06-15 09:23:14</td>\n",
       "      <td>@user123</td>\n",
       "      <td>New York</td>\n",
       "      <td>0.85</td>\n",
       "    </tr>\n",
       "    <tr>\n",
       "      <th>2</th>\n",
       "      <td>\"The service was terrible.\"</td>\n",
       "      <td>Negative</td>\n",
       "      <td>Yelp Reviews</td>\n",
       "      <td>2023-06-15 11:45:32</td>\n",
       "      <td>user456</td>\n",
       "      <td>Los Angeles</td>\n",
       "      <td>0.65</td>\n",
       "    </tr>\n",
       "    <tr>\n",
       "      <th>3</th>\n",
       "      <td>\"This movie is amazing!\"</td>\n",
       "      <td>Positive</td>\n",
       "      <td>IMDb</td>\n",
       "      <td>2023-06-15 14:10:22</td>\n",
       "      <td>moviefan789</td>\n",
       "      <td>London</td>\n",
       "      <td>0.92</td>\n",
       "    </tr>\n",
       "    <tr>\n",
       "      <th>4</th>\n",
       "      <td>\"I'm so disappointed with their customer suppo...</td>\n",
       "      <td>Negative</td>\n",
       "      <td>Online Forum</td>\n",
       "      <td>2023-06-15 17:35:11</td>\n",
       "      <td>forumuser1</td>\n",
       "      <td>Toronto</td>\n",
       "      <td>0.78</td>\n",
       "    </tr>\n",
       "    <tr>\n",
       "      <th>5</th>\n",
       "      <td>\"Just had the best meal of my life!\"</td>\n",
       "      <td>Positive</td>\n",
       "      <td>TripAdvisor</td>\n",
       "      <td>2023-06-16 08:50:59</td>\n",
       "      <td>foodie22</td>\n",
       "      <td>Paris</td>\n",
       "      <td>0.88</td>\n",
       "    </tr>\n",
       "  </tbody>\n",
       "</table>\n",
       "</div>"
      ],
      "text/plain": [
       "                                              review  sentiment  \\\n",
       "1                             \"I love this product!\"   Positive   \n",
       "2                        \"The service was terrible.\"   Negative   \n",
       "3                           \"This movie is amazing!\"   Positive   \n",
       "4  \"I'm so disappointed with their customer suppo...   Negative   \n",
       "5               \"Just had the best meal of my life!\"   Positive   \n",
       "\n",
       "          source                  date          user      location confidence  \n",
       "1        Twitter   2023-06-15 09:23:14      @user123      New York       0.85  \n",
       "2   Yelp Reviews   2023-06-15 11:45:32       user456   Los Angeles       0.65  \n",
       "3           IMDb   2023-06-15 14:10:22   moviefan789        London       0.92  \n",
       "4   Online Forum   2023-06-15 17:35:11    forumuser1       Toronto       0.78  \n",
       "5    TripAdvisor   2023-06-16 08:50:59      foodie22         Paris       0.88  "
      ]
     },
     "execution_count": 10,
     "metadata": {},
     "output_type": "execute_result"
    }
   ],
   "source": [
    "df = df.drop(['comments'], axis=1)\n",
    "df.head(5)"
   ]
  },
  {
   "cell_type": "markdown",
   "metadata": {},
   "source": [
    "### Text Preprocessing"
   ]
  },
  {
   "cell_type": "code",
   "execution_count": 11,
   "metadata": {},
   "outputs": [],
   "source": [
    "# Define the maximum number of words to use in the model\n",
    "max_words = 10000"
   ]
  },
  {
   "cell_type": "code",
   "execution_count": 12,
   "metadata": {},
   "outputs": [],
   "source": [
    "# Define the maximum length of a review\n",
    "max_length = 100"
   ]
  },
  {
   "cell_type": "code",
   "execution_count": 13,
   "metadata": {},
   "outputs": [],
   "source": [
    "# Create a tokenizer to convert the text to sequences\n",
    "tokenizer = Tokenizer(num_words=max_words)\n",
    "tokenizer.fit_on_texts(df['review'])"
   ]
  },
  {
   "cell_type": "code",
   "execution_count": 14,
   "metadata": {},
   "outputs": [],
   "source": [
    "# Convert the reviews to sequences\n",
    "sequences = tokenizer.texts_to_sequences(df['review'])"
   ]
  },
  {
   "cell_type": "code",
   "execution_count": 15,
   "metadata": {},
   "outputs": [],
   "source": [
    "# Pad the sequences to ensure they all have the same length\n",
    "data = pad_sequences(sequences, maxlen=max_length)"
   ]
  },
  {
   "cell_type": "markdown",
   "metadata": {},
   "source": [
    "### Model Building"
   ]
  },
  {
   "cell_type": "code",
   "execution_count": 16,
   "metadata": {},
   "outputs": [],
   "source": [
    "# Define the target variable\n",
    "target = pd.get_dummies(df['sentiment']).values"
   ]
  },
  {
   "cell_type": "code",
   "execution_count": 19,
   "metadata": {},
   "outputs": [],
   "source": [
    "# Define the LSTM model\n",
    "model = tf.keras.Sequential([\n",
    "    tf.keras.layers.Embedding(max_words, 64, input_length=max_length),\n",
    "    # tf.keras.layers.LSTM(64),\n",
    "    tf.keras.layers.LSTM(128),\n",
    "    tf.keras.layers.Dense(2, activation='softmax')\n",
    "])"
   ]
  },
  {
   "cell_type": "code",
   "execution_count": 20,
   "metadata": {},
   "outputs": [],
   "source": [
    "# Compile the model\n",
    "model.compile(optimizer='adam', loss='binary_crossentropy', metrics=['accuracy'])"
   ]
  },
  {
   "cell_type": "code",
   "execution_count": 21,
   "metadata": {},
   "outputs": [
    {
     "name": "stdout",
     "output_type": "stream",
     "text": [
      "Model: \"sequential_2\"\n",
      "_________________________________________________________________\n",
      " Layer (type)                Output Shape              Param #   \n",
      "=================================================================\n",
      " embedding_2 (Embedding)     (None, 100, 64)           640000    \n",
      "                                                                 \n",
      " lstm_4 (LSTM)               (None, 128)               98816     \n",
      "                                                                 \n",
      " dense_2 (Dense)             (None, 2)                 258       \n",
      "                                                                 \n",
      "=================================================================\n",
      "Total params: 739074 (2.82 MB)\n",
      "Trainable params: 739074 (2.82 MB)\n",
      "Non-trainable params: 0 (0.00 Byte)\n",
      "_________________________________________________________________\n"
     ]
    }
   ],
   "source": [
    "# Summary of the model\n",
    "model.summary()"
   ]
  },
  {
   "cell_type": "code",
   "execution_count": 22,
   "metadata": {},
   "outputs": [
    {
     "name": "stdout",
     "output_type": "stream",
     "text": [
      "Epoch 1/25\n",
      "3/3 [==============================] - 6s 143ms/step - loss: 0.6930 - accuracy: 0.5417\n",
      "Epoch 2/25\n",
      "3/3 [==============================] - 0s 130ms/step - loss: 0.6870 - accuracy: 0.5521\n",
      "Epoch 3/25\n",
      "3/3 [==============================] - 0s 129ms/step - loss: 0.6812 - accuracy: 0.5521\n",
      "Epoch 4/25\n",
      "3/3 [==============================] - 0s 132ms/step - loss: 0.6701 - accuracy: 0.5521\n",
      "Epoch 5/25\n",
      "3/3 [==============================] - 0s 133ms/step - loss: 0.6528 - accuracy: 0.5625\n",
      "Epoch 6/25\n",
      "3/3 [==============================] - 0s 132ms/step - loss: 0.6707 - accuracy: 0.5521\n",
      "Epoch 7/25\n",
      "3/3 [==============================] - 0s 130ms/step - loss: 0.6020 - accuracy: 0.6146\n",
      "Epoch 8/25\n",
      "3/3 [==============================] - 0s 133ms/step - loss: 0.5876 - accuracy: 0.9167\n",
      "Epoch 9/25\n",
      "3/3 [==============================] - 0s 133ms/step - loss: 0.5688 - accuracy: 0.9479\n",
      "Epoch 10/25\n",
      "3/3 [==============================] - 0s 166ms/step - loss: 0.5398 - accuracy: 0.9792\n",
      "Epoch 11/25\n",
      "3/3 [==============================] - 0s 130ms/step - loss: 0.5012 - accuracy: 0.9792\n",
      "Epoch 12/25\n",
      "3/3 [==============================] - 0s 130ms/step - loss: 0.4497 - accuracy: 0.9792\n",
      "Epoch 13/25\n",
      "3/3 [==============================] - 0s 131ms/step - loss: 0.3860 - accuracy: 0.9792\n",
      "Epoch 14/25\n",
      "3/3 [==============================] - 0s 131ms/step - loss: 0.3151 - accuracy: 0.9792\n",
      "Epoch 15/25\n",
      "3/3 [==============================] - 0s 130ms/step - loss: 0.2460 - accuracy: 0.9792\n",
      "Epoch 16/25\n",
      "3/3 [==============================] - 0s 131ms/step - loss: 0.1919 - accuracy: 0.9792\n",
      "Epoch 17/25\n",
      "3/3 [==============================] - 0s 157ms/step - loss: 0.2226 - accuracy: 0.9167\n",
      "Epoch 18/25\n",
      "3/3 [==============================] - 0s 129ms/step - loss: 0.1451 - accuracy: 0.9792\n",
      "Epoch 19/25\n",
      "3/3 [==============================] - 0s 130ms/step - loss: 0.1349 - accuracy: 0.9896\n",
      "Epoch 20/25\n",
      "3/3 [==============================] - 0s 131ms/step - loss: 0.1225 - accuracy: 1.0000\n",
      "Epoch 21/25\n",
      "3/3 [==============================] - 0s 133ms/step - loss: 0.1104 - accuracy: 1.0000\n",
      "Epoch 22/25\n",
      "3/3 [==============================] - 0s 131ms/step - loss: 0.0961 - accuracy: 1.0000\n",
      "Epoch 23/25\n",
      "3/3 [==============================] - 0s 172ms/step - loss: 0.0823 - accuracy: 1.0000\n",
      "Epoch 24/25\n",
      "3/3 [==============================] - 0s 130ms/step - loss: 0.0690 - accuracy: 1.0000\n",
      "Epoch 25/25\n",
      "3/3 [==============================] - 0s 131ms/step - loss: 0.0562 - accuracy: 1.0000\n"
     ]
    },
    {
     "data": {
      "text/plain": [
       "<keras.src.callbacks.History at 0x1fa628f0c10>"
      ]
     },
     "execution_count": 22,
     "metadata": {},
     "output_type": "execute_result"
    }
   ],
   "source": [
    "# Train the model\n",
    "model.fit(data, target, epochs=25, batch_size=32)"
   ]
  },
  {
   "cell_type": "code",
   "execution_count": 23,
   "metadata": {},
   "outputs": [
    {
     "name": "stdout",
     "output_type": "stream",
     "text": [
      "3/3 [==============================] - 2s 59ms/step - loss: 0.0487 - accuracy: 1.0000\n",
      "Accuracy:  1.0\n"
     ]
    }
   ],
   "source": [
    "#Evaluate the model\n",
    "scores = model.evaluate(data, target)\n",
    "print(\"Accuracy: \", scores[1])"
   ]
  },
  {
   "cell_type": "code",
   "execution_count": 24,
   "metadata": {},
   "outputs": [],
   "source": [
    "# Function to make predictions on new data\n",
    "def prediction(new_data):\n",
    "    new_data = pad_sequences(new_data, maxlen=max_length)\n",
    "    predictions = model.predict(new_data)\n",
    "\n",
    "    # Convert the predictions to categorical\n",
    "    predictions = np.argmax(predictions, axis=1)\n",
    "\n",
    "    # Convert the predictions to sentiment labels\n",
    "    sentiment_labels = ['negative', 'positive']\n",
    "    predicted_sentiment = sentiment_labels[predictions[0]]\n",
    "\n",
    "    # Print the predicted sentiment\n",
    "    print('Predicted sentiment:', predicted_sentiment)"
   ]
  },
  {
   "cell_type": "code",
   "execution_count": 25,
   "metadata": {},
   "outputs": [
    {
     "name": "stdout",
     "output_type": "stream",
     "text": [
      "1/1 [==============================] - 1s 1s/step\n",
      "Predicted sentiment: negative\n"
     ]
    }
   ],
   "source": [
    "# Make predictions on new data\n",
    "review1 = [tokenizer.texts_to_sequences(['This is a terrible product'])][0]\n",
    "prediction(review1)"
   ]
  },
  {
   "cell_type": "code",
   "execution_count": 26,
   "metadata": {},
   "outputs": [
    {
     "name": "stdout",
     "output_type": "stream",
     "text": [
      "1/1 [==============================] - 0s 63ms/step\n",
      "Predicted sentiment: positive\n"
     ]
    }
   ],
   "source": [
    "# Make predictions on new data\n",
    "review2 = [tokenizer.texts_to_sequences(['A great product/service'])][0]\n",
    "prediction(review2)"
   ]
  },
  {
   "cell_type": "code",
   "execution_count": 27,
   "metadata": {},
   "outputs": [
    {
     "name": "stdout",
     "output_type": "stream",
     "text": [
      "1/1 [==============================] - 0s 166ms/step\n",
      "Predicted sentiment: positive\n"
     ]
    }
   ],
   "source": [
    "# Make predictions on new data\n",
    "review3 = [tokenizer.texts_to_sequences(['We loved the food and how the staff treats customers. I recommend this place.'])][0]\n",
    "prediction(review3)"
   ]
  },
  {
   "cell_type": "code",
   "execution_count": 29,
   "metadata": {},
   "outputs": [
    {
     "name": "stdout",
     "output_type": "stream",
     "text": [
      "1/1 [==============================] - 0s 70ms/step\n",
      "Predicted sentiment: negative\n"
     ]
    }
   ],
   "source": [
    "# Make predictions on new data\n",
    "review4 = [tokenizer.texts_to_sequences([\"I'm upset and would not recommend purchasing from them.\"])][0]\n",
    "prediction(review4)"
   ]
  },
  {
   "cell_type": "code",
   "execution_count": 30,
   "metadata": {},
   "outputs": [
    {
     "name": "stdout",
     "output_type": "stream",
     "text": [
      "1/1 [==============================] - 0s 78ms/step\n",
      "Predicted sentiment: negative\n"
     ]
    }
   ],
   "source": [
    "# Make predictions on new data\n",
    "review5 = [tokenizer.texts_to_sequences([\"The service was awful! They ignored our requests and seemed annoyed when we asked to change what they initially brought us.\"])][0]\n",
    "prediction(review5)"
   ]
  },
  {
   "cell_type": "markdown",
   "metadata": {},
   "source": [
    "### Save the model"
   ]
  },
  {
   "cell_type": "code",
   "execution_count": 34,
   "metadata": {},
   "outputs": [
    {
     "name": "stderr",
     "output_type": "stream",
     "text": [
      "c:\\Users\\noora\\AppData\\Local\\Programs\\Python\\Python311\\Lib\\site-packages\\keras\\src\\engine\\training.py:3000: UserWarning: You are saving your model as an HDF5 file via `model.save()`. This file format is considered legacy. We recommend using instead the native Keras format, e.g. `model.save('my_model.keras')`.\n",
      "  saving_api.save_model(\n"
     ]
    }
   ],
   "source": [
    "# Save the model\n",
    "model.save('sentiment_analysis_model.h5')"
   ]
  },
  {
   "cell_type": "code",
   "execution_count": 35,
   "metadata": {},
   "outputs": [
    {
     "data": {
      "text/plain": [
       "['sentiment_analysis_tokenizer.pkl']"
      ]
     },
     "execution_count": 35,
     "metadata": {},
     "output_type": "execute_result"
    }
   ],
   "source": [
    "joblib.dump(tokenizer.word_index, 'sentiment_analysis_tokenizer.pkl')"
   ]
  }
 ],
 "metadata": {
  "kernelspec": {
   "display_name": "Python 3",
   "language": "python",
   "name": "python3"
  },
  "language_info": {
   "codemirror_mode": {
    "name": "ipython",
    "version": 3
   },
   "file_extension": ".py",
   "mimetype": "text/x-python",
   "name": "python",
   "nbconvert_exporter": "python",
   "pygments_lexer": "ipython3",
   "version": "3.11.0"
  }
 },
 "nbformat": 4,
 "nbformat_minor": 2
}
